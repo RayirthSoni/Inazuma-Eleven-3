{
 "cells": [
  {
   "cell_type": "markdown",
   "metadata": {},
   "source": [
    "# IMPORTS"
   ]
  },
  {
   "cell_type": "code",
   "execution_count": 1,
   "metadata": {},
   "outputs": [],
   "source": [
    "import os\n",
    "os.chdir('..')\n",
    "\n",
    "import numpy as np\n",
    "import pandas as pd\n",
    "from bs4 import BeautifulSoup\n",
    "import requests\n",
    "from constants.constants import Constants\n",
    "import json\n"
   ]
  },
  {
   "cell_type": "markdown",
   "metadata": {},
   "source": [
    "# Constants"
   ]
  },
  {
   "cell_type": "code",
   "execution_count": 2,
   "metadata": {},
   "outputs": [],
   "source": [
    "INAZUMA_ELEVEN3_WEB_FEATURES = Constants.INAZUMA_ELEVEN3_WEB_FEATURES\n",
    "WEB_INAZUMA_URL = Constants.Scripts.WEB_INAZUMA_ELEVEN_URL"
   ]
  },
  {
   "cell_type": "code",
   "execution_count": 3,
   "metadata": {},
   "outputs": [],
   "source": [
    "WEBSITE_FETCH_DATA = WEB_INAZUMA_URL.format(INAZUMA_ELEVEN3_WEB_FEATURES['level_99_stats'])"
   ]
  },
  {
   "cell_type": "markdown",
   "metadata": {},
   "source": [
    "# CODE TO GET TEAM NAMES"
   ]
  },
  {
   "cell_type": "code",
   "execution_count": 4,
   "metadata": {},
   "outputs": [],
   "source": [
    "response = requests.get(WEBSITE_FETCH_DATA)\n",
    "html_content = response.content"
   ]
  },
  {
   "cell_type": "code",
   "execution_count": 5,
   "metadata": {},
   "outputs": [],
   "source": [
    "soup = BeautifulSoup(html_content, 'lxml')"
   ]
  },
  {
   "cell_type": "code",
   "execution_count": 6,
   "metadata": {},
   "outputs": [],
   "source": [
    "menu_table = soup.find('table',class_='menu')"
   ]
  },
  {
   "cell_type": "code",
   "execution_count": 7,
   "metadata": {},
   "outputs": [],
   "source": [
    "team_names = {'Teams': [cell.text for row in menu_table.find_all('tr') for cell in row.find_all('td')]}"
   ]
  },
  {
   "cell_type": "code",
   "execution_count": 8,
   "metadata": {},
   "outputs": [],
   "source": [
    "json_team_names = json.dumps(team_names, indent=4, default=str)"
   ]
  },
  {
   "cell_type": "code",
   "execution_count": 9,
   "metadata": {},
   "outputs": [],
   "source": [
    "json.dump(team_names, open('data/team_names.json','w'), indent=4)"
   ]
  },
  {
   "cell_type": "markdown",
   "metadata": {},
   "source": [
    "## COLUMNS"
   ]
  },
  {
   "cell_type": "code",
   "execution_count": 10,
   "metadata": {},
   "outputs": [],
   "source": [
    "player_stats_dict = {}\n",
    "player_stats_table = soup.find(\"table\", class_=None)"
   ]
  },
  {
   "cell_type": "code",
   "execution_count": 11,
   "metadata": {},
   "outputs": [],
   "source": [
    "headers = ['Team'] + [cell.get_text(strip=True) for cell in soup.find(\"table\", class_=None).find(\"tr\").find_all(\"td\")]"
   ]
  },
  {
   "cell_type": "code",
   "execution_count": 12,
   "metadata": {},
   "outputs": [],
   "source": [
    "player_stats_dict = {header: [] for header in headers}"
   ]
  },
  {
   "cell_type": "code",
   "execution_count": 13,
   "metadata": {},
   "outputs": [
    {
     "data": {
      "text/plain": [
       "{'Team': [],\n",
       " 'Name': [],\n",
       " 'Element': [],\n",
       " 'Position': [],\n",
       " 'FP': [],\n",
       " 'TP': [],\n",
       " 'Kick': [],\n",
       " 'Body': [],\n",
       " 'Control': [],\n",
       " 'Guard': [],\n",
       " 'Speed': [],\n",
       " 'Stamina': [],\n",
       " 'Guts': [],\n",
       " 'Freedom': [],\n",
       " '1st Move': [],\n",
       " '2nd Move': [],\n",
       " '3rd Move': [],\n",
       " '4th Move': []}"
      ]
     },
     "execution_count": 13,
     "metadata": {},
     "output_type": "execute_result"
    }
   ],
   "source": [
    "player_stats_dict"
   ]
  },
  {
   "cell_type": "code",
   "execution_count": 14,
   "metadata": {},
   "outputs": [],
   "source": [
    "team_names = [team.get_text(strip=True) for team in soup.find_all('h1')]"
   ]
  },
  {
   "cell_type": "code",
   "execution_count": 15,
   "metadata": {},
   "outputs": [],
   "source": [
    "for element in soup.find_all(['h1','table']):\n",
    "    if element.name == 'h1':\n",
    "        current_team = element.get_text(strip=True)\n",
    "    elif element.name == \"table\" and element.get('class') is None:\n",
    "        for row in element.find_all('tr')[1:]:\n",
    "            player_stats_dict['Team'].append(current_team)\n",
    "            for idx, cell in enumerate(row.find_all('td')):\n",
    "                    header = headers[idx + 1]  # Adjust index for 'Team' header\n",
    "                    player_stats_dict[header].append(cell.get_text(strip=True))"
   ]
  },
  {
   "cell_type": "code",
   "execution_count": null,
   "metadata": {},
   "outputs": [],
   "source": []
  }
 ],
 "metadata": {
  "kernelspec": {
   "display_name": "Python 3",
   "language": "python",
   "name": "python3"
  },
  "language_info": {
   "codemirror_mode": {
    "name": "ipython",
    "version": 3
   },
   "file_extension": ".py",
   "mimetype": "text/x-python",
   "name": "python",
   "nbconvert_exporter": "python",
   "pygments_lexer": "ipython3",
   "version": "3.12.2"
  }
 },
 "nbformat": 4,
 "nbformat_minor": 2
}
