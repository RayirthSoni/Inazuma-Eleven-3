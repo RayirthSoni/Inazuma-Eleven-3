{
 "cells": [
  {
   "cell_type": "markdown",
   "metadata": {},
   "source": [
    "# IMPORTS"
   ]
  },
  {
   "cell_type": "code",
   "execution_count": 1,
   "metadata": {},
   "outputs": [],
   "source": [
    "import os\n",
    "os.chdir('..')\n",
    "\n",
    "import numpy as np\n",
    "import pandas as pd\n",
    "from bs4 import BeautifulSoup\n",
    "import requests\n",
    "from constants.constants import Constants\n"
   ]
  },
  {
   "cell_type": "markdown",
   "metadata": {},
   "source": [
    "# Constants"
   ]
  },
  {
   "cell_type": "code",
   "execution_count": 2,
   "metadata": {},
   "outputs": [],
   "source": [
    "INAZUMA_ELEVEN3_WEB_FEATURES = Constants.INAZUMA_ELEVEN3_WEB_FEATURES\n",
    "WEB_INAZUMA_URL = Constants.Scripts.WEB_INAZUMA_ELEVEN_URL"
   ]
  },
  {
   "cell_type": "code",
   "execution_count": 4,
   "metadata": {},
   "outputs": [],
   "source": [
    "WEBSITE_FETCH_DATA = WEB_INAZUMA_URL.format(INAZUMA_ELEVEN3_WEB_FEATURES['level_99_stats'])"
   ]
  },
  {
   "cell_type": "code",
   "execution_count": 5,
   "metadata": {},
   "outputs": [],
   "source": [
    "response = requests.get(WEBSITE_FETCH_DATA)\n",
    "html_content = response.content"
   ]
  },
  {
   "cell_type": "code",
   "execution_count": 6,
   "metadata": {},
   "outputs": [],
   "source": [
    "soup = BeautifulSoup(html_content, 'lxml')"
   ]
  },
  {
   "cell_type": "code",
   "execution_count": 38,
   "metadata": {},
   "outputs": [],
   "source": [
    "table = soup.find('table',class_='menu')"
   ]
  },
  {
   "cell_type": "code",
   "execution_count": 48,
   "metadata": {},
   "outputs": [
    {
     "data": {
      "text/plain": [
       "['Inazuma Japan',\n",
       " 'Big Waves',\n",
       " 'Desert Lion',\n",
       " 'Fire Dragon',\n",
       " 'Knights of Queen',\n",
       " 'The Empire',\n",
       " 'Unicorn',\n",
       " 'Orpheus',\n",
       " 'The Kingdom',\n",
       " 'Little Gigant',\n",
       " 'Team K',\n",
       " 'Team Garshield',\n",
       " 'Red Matador',\n",
       " 'Rose Griffon',\n",
       " 'Brockenborg',\n",
       " 'The Great Horn',\n",
       " 'Tenkuu no Shito',\n",
       " 'Makai Gundan Z',\n",
       " 'Ogre',\n",
       " 'Occult',\n",
       " 'Wild',\n",
       " 'Brainwashing',\n",
       " 'Otaku',\n",
       " 'Royal Academy',\n",
       " 'Shuriken',\n",
       " 'Farm',\n",
       " 'Kirkwood',\n",
       " 'Zeus',\n",
       " 'Inazuma KFC',\n",
       " 'Umbrella',\n",
       " \"Street Sally's\",\n",
       " 'Alpine',\n",
       " 'Cloister Divinity',\n",
       " 'Royal Academy Redux',\n",
       " 'Triple C',\n",
       " 'Fauxshore',\n",
       " 'Mary Times Memorial',\n",
       " 'Secret Service',\n",
       " 'Gemini Storm',\n",
       " 'Epsilon',\n",
       " 'The Genesis',\n",
       " 'Prominence',\n",
       " 'Diamond Dust',\n",
       " 'Dark Emperors',\n",
       " 'Forest Team',\n",
       " 'Young Inazuma',\n",
       " 'Password',\n",
       " 'Special']"
      ]
     },
     "execution_count": 48,
     "metadata": {},
     "output_type": "execute_result"
    }
   ],
   "source": [
    "# for row in table.find_all('tr'):\n",
    "#     cells = row.find_all('td')\n",
    "#     for cell in cells:\n",
    "#         print(cell.text)\n",
    "\n",
    "[cell.text for row in table.find_all('tr') for cell in row.find_all('td')]"
   ]
  },
  {
   "cell_type": "code",
   "execution_count": null,
   "metadata": {},
   "outputs": [],
   "source": []
  },
  {
   "cell_type": "code",
   "execution_count": null,
   "metadata": {},
   "outputs": [],
   "source": []
  },
  {
   "cell_type": "code",
   "execution_count": null,
   "metadata": {},
   "outputs": [],
   "source": []
  }
 ],
 "metadata": {
  "kernelspec": {
   "display_name": "Python 3",
   "language": "python",
   "name": "python3"
  },
  "language_info": {
   "codemirror_mode": {
    "name": "ipython",
    "version": 3
   },
   "file_extension": ".py",
   "mimetype": "text/x-python",
   "name": "python",
   "nbconvert_exporter": "python",
   "pygments_lexer": "ipython3",
   "version": "3.12.2"
  }
 },
 "nbformat": 4,
 "nbformat_minor": 2
}
